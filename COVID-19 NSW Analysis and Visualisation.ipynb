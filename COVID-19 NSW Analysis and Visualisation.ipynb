{
 "cells": [
  {
   "cell_type": "code",
   "execution_count": 1,
   "metadata": {},
   "outputs": [],
   "source": [
    "import numpy as np\n",
    "import pandas as pd\n",
    "from matplotlib import pyplot as plt\n",
    "%matplotlib inline"
   ]
  },
  {
   "cell_type": "code",
   "execution_count": 2,
   "metadata": {},
   "outputs": [],
   "source": [
    "data = pd.read_csv('covid-19-cases-by-notification-date-and-likely-source-of-infection.csv')"
   ]
  },
  {
   "cell_type": "code",
   "execution_count": 3,
   "metadata": {},
   "outputs": [
    {
     "data": {
      "text/html": [
       "<div>\n",
       "<style scoped>\n",
       "    .dataframe tbody tr th:only-of-type {\n",
       "        vertical-align: middle;\n",
       "    }\n",
       "\n",
       "    .dataframe tbody tr th {\n",
       "        vertical-align: top;\n",
       "    }\n",
       "\n",
       "    .dataframe thead th {\n",
       "        text-align: right;\n",
       "    }\n",
       "</style>\n",
       "<table border=\"1\" class=\"dataframe\">\n",
       "  <thead>\n",
       "    <tr style=\"text-align: right;\">\n",
       "      <th></th>\n",
       "      <th>notification_date</th>\n",
       "      <th>likely_source_of_infection</th>\n",
       "    </tr>\n",
       "  </thead>\n",
       "  <tbody>\n",
       "    <tr>\n",
       "      <td>0</td>\n",
       "      <td>09-03-20</td>\n",
       "      <td>Overseas or interstate</td>\n",
       "    </tr>\n",
       "    <tr>\n",
       "      <td>1</td>\n",
       "      <td>09-03-20</td>\n",
       "      <td>Overseas or interstate</td>\n",
       "    </tr>\n",
       "    <tr>\n",
       "      <td>2</td>\n",
       "      <td>09-03-20</td>\n",
       "      <td>Locally acquired - contact of a confirmed case...</td>\n",
       "    </tr>\n",
       "    <tr>\n",
       "      <td>3</td>\n",
       "      <td>09-03-20</td>\n",
       "      <td>Overseas or interstate</td>\n",
       "    </tr>\n",
       "    <tr>\n",
       "      <td>4</td>\n",
       "      <td>09-03-20</td>\n",
       "      <td>Locally acquired - contact of a confirmed case...</td>\n",
       "    </tr>\n",
       "  </tbody>\n",
       "</table>\n",
       "</div>"
      ],
      "text/plain": [
       "  notification_date                         likely_source_of_infection\n",
       "0          09-03-20                             Overseas or interstate\n",
       "1          09-03-20                             Overseas or interstate\n",
       "2          09-03-20  Locally acquired - contact of a confirmed case...\n",
       "3          09-03-20                             Overseas or interstate\n",
       "4          09-03-20  Locally acquired - contact of a confirmed case..."
      ]
     },
     "execution_count": 3,
     "metadata": {},
     "output_type": "execute_result"
    }
   ],
   "source": [
    "data.head()"
   ]
  },
  {
   "cell_type": "code",
   "execution_count": 4,
   "metadata": {},
   "outputs": [
    {
     "data": {
      "text/html": [
       "<div>\n",
       "<style scoped>\n",
       "    .dataframe tbody tr th:only-of-type {\n",
       "        vertical-align: middle;\n",
       "    }\n",
       "\n",
       "    .dataframe tbody tr th {\n",
       "        vertical-align: top;\n",
       "    }\n",
       "\n",
       "    .dataframe thead th {\n",
       "        text-align: right;\n",
       "    }\n",
       "</style>\n",
       "<table border=\"1\" class=\"dataframe\">\n",
       "  <thead>\n",
       "    <tr style=\"text-align: right;\">\n",
       "      <th></th>\n",
       "      <th>notification_date</th>\n",
       "      <th>likely_source_of_infection</th>\n",
       "    </tr>\n",
       "  </thead>\n",
       "  <tbody>\n",
       "    <tr>\n",
       "      <td>count</td>\n",
       "      <td>2795</td>\n",
       "      <td>2795</td>\n",
       "    </tr>\n",
       "    <tr>\n",
       "      <td>unique</td>\n",
       "      <td>33</td>\n",
       "      <td>4</td>\n",
       "    </tr>\n",
       "    <tr>\n",
       "      <td>top</td>\n",
       "      <td>26-03-20</td>\n",
       "      <td>Overseas or interstate</td>\n",
       "    </tr>\n",
       "    <tr>\n",
       "      <td>freq</td>\n",
       "      <td>199</td>\n",
       "      <td>1725</td>\n",
       "    </tr>\n",
       "  </tbody>\n",
       "</table>\n",
       "</div>"
      ],
      "text/plain": [
       "       notification_date likely_source_of_infection\n",
       "count               2795                       2795\n",
       "unique                33                          4\n",
       "top             26-03-20     Overseas or interstate\n",
       "freq                 199                       1725"
      ]
     },
     "execution_count": 4,
     "metadata": {},
     "output_type": "execute_result"
    }
   ],
   "source": [
    "data.describe()"
   ]
  },
  {
   "cell_type": "code",
   "execution_count": 5,
   "metadata": {},
   "outputs": [
    {
     "data": {
      "text/plain": [
       "{'Locally acquired - contact not identified',\n",
       " 'Locally acquired - contact of a confirmed case and/or in a known cluster',\n",
       " 'Overseas or interstate',\n",
       " 'Under investigation'}"
      ]
     },
     "execution_count": 5,
     "metadata": {},
     "output_type": "execute_result"
    }
   ],
   "source": [
    "sources = list(data['likely_source_of_infection'])\n",
    "set(sources)"
   ]
  },
  {
   "cell_type": "code",
   "execution_count": 6,
   "metadata": {},
   "outputs": [],
   "source": [
    "data['notification_date'] = pd.to_datetime(data['notification_date'],dayfirst=True)"
   ]
  },
  {
   "cell_type": "code",
   "execution_count": 7,
   "metadata": {},
   "outputs": [
    {
     "data": {
      "text/html": [
       "<div>\n",
       "<style scoped>\n",
       "    .dataframe tbody tr th:only-of-type {\n",
       "        vertical-align: middle;\n",
       "    }\n",
       "\n",
       "    .dataframe tbody tr th {\n",
       "        vertical-align: top;\n",
       "    }\n",
       "\n",
       "    .dataframe thead th {\n",
       "        text-align: right;\n",
       "    }\n",
       "</style>\n",
       "<table border=\"1\" class=\"dataframe\">\n",
       "  <thead>\n",
       "    <tr style=\"text-align: right;\">\n",
       "      <th></th>\n",
       "      <th>notification_date</th>\n",
       "      <th>likely_source_of_infection</th>\n",
       "    </tr>\n",
       "  </thead>\n",
       "  <tbody>\n",
       "    <tr>\n",
       "      <td>0</td>\n",
       "      <td>2020-03-09</td>\n",
       "      <td>Overseas or interstate</td>\n",
       "    </tr>\n",
       "    <tr>\n",
       "      <td>1</td>\n",
       "      <td>2020-03-09</td>\n",
       "      <td>Overseas or interstate</td>\n",
       "    </tr>\n",
       "    <tr>\n",
       "      <td>2</td>\n",
       "      <td>2020-03-09</td>\n",
       "      <td>Locally acquired - contact of a confirmed case...</td>\n",
       "    </tr>\n",
       "    <tr>\n",
       "      <td>3</td>\n",
       "      <td>2020-03-09</td>\n",
       "      <td>Overseas or interstate</td>\n",
       "    </tr>\n",
       "    <tr>\n",
       "      <td>4</td>\n",
       "      <td>2020-03-09</td>\n",
       "      <td>Locally acquired - contact of a confirmed case...</td>\n",
       "    </tr>\n",
       "  </tbody>\n",
       "</table>\n",
       "</div>"
      ],
      "text/plain": [
       "  notification_date                         likely_source_of_infection\n",
       "0        2020-03-09                             Overseas or interstate\n",
       "1        2020-03-09                             Overseas or interstate\n",
       "2        2020-03-09  Locally acquired - contact of a confirmed case...\n",
       "3        2020-03-09                             Overseas or interstate\n",
       "4        2020-03-09  Locally acquired - contact of a confirmed case..."
      ]
     },
     "execution_count": 7,
     "metadata": {},
     "output_type": "execute_result"
    }
   ],
   "source": [
    "data.head()"
   ]
  },
  {
   "cell_type": "code",
   "execution_count": 8,
   "metadata": {},
   "outputs": [],
   "source": [
    "months = data.groupby(data.notification_date.dt.month)"
   ]
  },
  {
   "cell_type": "code",
   "execution_count": 10,
   "metadata": {},
   "outputs": [],
   "source": [
    "overseas = len(data.query('likely_source_of_infection == \"Overseas or interstate\"'))\n",
    "local = len(data.query('likely_source_of_infection == \"Locally acquired - contact not identified\"')) + len(data.query('likely_source_of_infection == \"Locally acquired - contact of a confirmed case and/or in a known cluster\"'))\n",
    "unidentified = len(data.query('likely_source_of_infection == \"Under investigation\"'))"
   ]
  },
  {
   "cell_type": "code",
   "execution_count": 11,
   "metadata": {},
   "outputs": [
    {
     "name": "stdout",
     "output_type": "stream",
     "text": [
      "The number of cases acquired from overseas in NSW : 1725.\n",
      "\n",
      "The number of cases acquired locally in NSW : 1021.\n",
      "\n",
      "The number of cases acquired from unidenitified sources in NSW : 49.\n",
      "\n"
     ]
    }
   ],
   "source": [
    "print(f'The number of cases acquired from overseas in NSW : {overseas}.\\n')\n",
    "print(f'The number of cases acquired locally in NSW : {local}.\\n')\n",
    "print(f'The number of cases acquired from unidenitified sources in NSW : {unidentified}.\\n')"
   ]
  },
  {
   "cell_type": "code",
   "execution_count": 12,
   "metadata": {},
   "outputs": [
    {
     "data": {
      "image/png": "[encoded data removed]",
      "text/plain": [
       "<Figure size 432x288 with 1 Axes>"
      ]
     },
     "metadata": {},
     "output_type": "display_data"
    }
   ],
   "source": [
    "labels = ['Overseas','Local','Unidentified']\n",
    "no = [overseas,local,unidentified]\n",
    "explode = (0, 0.1, 0) \n",
    "fig1, ax1 = plt.subplots()\n",
    "ax1.pie(no, labels=labels, explode = explode,autopct='%1.1f%%',shadow=True, startangle=90)\n",
    "ax1.axis('equal')  # Equal aspect ratio ensures that pie is drawn as a circle.\n",
    "\n",
    "plt.show()"
   ]
  },
  {
   "cell_type": "code",
   "execution_count": 27,
   "metadata": {},
   "outputs": [
    {
     "data": {
      "text/plain": [
       "Text(0, 0.5, 'No. of Infections')"
      ]
     },
     "execution_count": 27,
     "metadata": {},
     "output_type": "execute_result"
    },
    {
     "data": {
      "image/png": "[encoded data removed]",
      "text/plain": [
       "<Figure size 432x288 with 1 Axes>"
      ]
     },
     "metadata": {
      "needs_background": "light"
     },
     "output_type": "display_data"
    }
   ],
   "source": [
    "data['notification_date'].groupby(data[\"notification_date\"].dt.month).count().plot(kind=\"bar\")\n",
    "plt.suptitle('Monthly Infections in NSW', fontsize=10)\n",
    "plt.xlabel('Months - March and April', fontsize=10)\n",
    "plt.ylabel('No. of Infections', fontsize=10)"
   ]
  },
  {
   "cell_type": "code",
   "execution_count": 28,
   "metadata": {},
   "outputs": [
    {
     "data": {
      "text/plain": [
       "Text(0, 0.5, 'No. of Infections')"
      ]
     },
     "execution_count": 28,
     "metadata": {},
     "output_type": "execute_result"
    },
    {
     "data": {
      "image/png": "[encoded data removed]",
      "text/plain": [
       "<Figure size 432x288 with 1 Axes>"
      ]
     },
     "metadata": {
      "needs_background": "light"
     },
     "output_type": "display_data"
    }
   ],
   "source": [
    "data['notification_date'].groupby([data[\"notification_date\"].dt.month, data[\"notification_date\"].dt.day]).count().\n",
    "plot(kind=\"bar\")\n",
    "plt.suptitle('Distibution of Number of Infections in NSW March - April', fontsize=10)\n",
    "plt.xlabel('Date', fontsize=10)\n",
    "plt.ylabel('No. of Infections', fontsize=10)"
   ]
  },
  {
   "cell_type": "code",
   "execution_count": 35,
   "metadata": {},
   "outputs": [
    {
     "data": {
      "text/plain": [
       "Text(0, 0.5, 'No. of Infections per day')"
      ]
     },
     "execution_count": 35,
     "metadata": {},
     "output_type": "execute_result"
    },
    {
     "data": {
      "image/png": "[encoded data removed]",
      "text/plain": [
       "<Figure size 432x288 with 1 Axes>"
      ]
     },
     "metadata": {
      "needs_background": "light"
     },
     "output_type": "display_data"
    }
   ],
   "source": [
    "data['notification_date'].groupby(data['notification_date']).count().plot(kind='line')\n",
    "plt.suptitle('Distibution of Number of Infections in NSW', fontsize=10)\n",
    "plt.xlabel('Date', fontsize=10)\n",
    "plt.ylabel('No. of Infections per day', fontsize=10)"
   ]
  },
  {
   "cell_type": "code",
   "execution_count": 37,
   "metadata": {},
   "outputs": [],
   "source": [
    "count = data['notification_date'].groupby(data['notification_date']).count()"
   ]
  },
  {
   "cell_type": "code",
   "execution_count": 42,
   "metadata": {},
   "outputs": [
    {
     "data": {
      "text/plain": [
       "notification_date\n",
       "2020-03-09      8\n",
       "2020-03-10      6\n",
       "2020-03-11     20\n",
       "2020-03-12     23\n",
       "2020-03-13     31\n",
       "2020-03-14     25\n",
       "2020-03-15     35\n",
       "2020-03-16     49\n",
       "2020-03-17     53\n",
       "2020-03-18     65\n",
       "2020-03-19     75\n",
       "2020-03-20    131\n",
       "2020-03-21    103\n",
       "2020-03-22    180\n",
       "2020-03-23    185\n",
       "2020-03-24    195\n",
       "2020-03-25    186\n",
       "2020-03-26    199\n",
       "2020-03-27    191\n",
       "2020-03-28    124\n",
       "2020-03-29    115\n",
       "2020-03-30     76\n",
       "2020-03-31    131\n",
       "2020-04-01    114\n",
       "2020-04-02     95\n",
       "2020-04-03     82\n",
       "2020-04-04     75\n",
       "2020-04-05     55\n",
       "2020-04-06     32\n",
       "2020-04-07     33\n",
       "2020-04-08     53\n",
       "2020-04-09     33\n",
       "2020-04-10     17\n",
       "Name: notification_date, dtype: int64"
      ]
     },
     "execution_count": 42,
     "metadata": {},
     "output_type": "execute_result"
    }
   ],
   "source": [
    "count"
   ]
  }
 ],
 "metadata": {
  "kernelspec": {
   "display_name": "Python 3",
   "language": "python",
   "name": "python3"
  },
  "language_info": {
   "codemirror_mode": {
    "name": "ipython",
    "version": 3
   },
   "file_extension": ".py",
   "mimetype": "text/x-python",
   "name": "python",
   "nbconvert_exporter": "python",
   "pygments_lexer": "ipython3",
   "version": "3.7.4"
  }
 },
 "nbformat": 4,
 "nbformat_minor": 2
}
